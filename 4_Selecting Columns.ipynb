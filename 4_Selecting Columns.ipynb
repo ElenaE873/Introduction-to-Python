{
 "cells": [
  {
   "cell_type": "markdown",
   "id": "64e92f0e",
   "metadata": {},
   "source": [
    "### Selecting Columns"
   ]
  },
  {
   "cell_type": "markdown",
   "id": "7ac92eca",
   "metadata": {},
   "source": [
    "#### selecting with brakets and string"
   ]
  },
  {
   "cell_type": "code",
   "execution_count": null,
   "id": "6d5e70a7",
   "metadata": {},
   "outputs": [],
   "source": [
    "variable = df['column'] \n",
    "#this provides data from this particular column only"
   ]
  },
  {
   "cell_type": "markdown",
   "id": "4109b0ae",
   "metadata": {},
   "source": [
    "#### slecting with dot "
   ]
  },
  {
   "cell_type": "code",
   "execution_count": null,
   "id": "05f21c6d",
   "metadata": {},
   "outputs": [],
   "source": [
    "variable = df.nameofcolumn"
   ]
  },
  {
   "cell_type": "markdown",
   "id": "7813324d",
   "metadata": {},
   "source": [
    "Errors may occur in this in confusion of python for 'string' versus variable (no strings)"
   ]
  },
  {
   "cell_type": "markdown",
   "id": "786b6f96",
   "metadata": {},
   "source": [
    "Another really important thing to remember is that you can use '' or ., depending on the variable string structure like above"
   ]
  },
  {
   "cell_type": "code",
   "execution_count": null,
   "id": "db89b342",
   "metadata": {},
   "outputs": [],
   "source": [
    "#exercise useful to remember\n",
    "\n",
    "# Select the dogs where Age is greater than 2\n",
    "greater_than_2 = mpr[mpr.Age > 2]\n",
    "print(greater_than_2)\n",
    "\n",
    "# Select the dogs whose Status is equal to Still Missing\n",
    "still_missing = mpr[mpr.Status == 'Still Missing']\n",
    "print(still_missing)\n",
    "\n",
    "# Select all dogs whose Dog Breed is not equal to Poodle\n",
    "not_poodle = mpr[mpr['Dog Breed'] != 'Poodle']\n",
    "print(not_poodle)"
   ]
  },
  {
   "cell_type": "code",
   "execution_count": null,
   "id": "f7f338cb",
   "metadata": {},
   "outputs": [],
   "source": [
    "# Select purchases from 'Pet Paradise'\n",
    "purchase = credit_records[credit_records.location == 'Pet Paradise']"
   ]
  }
 ],
 "metadata": {
  "kernelspec": {
   "display_name": "Python 3 (ipykernel)",
   "language": "python",
   "name": "python3"
  },
  "language_info": {
   "codemirror_mode": {
    "name": "ipython",
    "version": 3
   },
   "file_extension": ".py",
   "mimetype": "text/x-python",
   "name": "python",
   "nbconvert_exporter": "python",
   "pygments_lexer": "ipython3",
   "version": "3.9.7"
  }
 },
 "nbformat": 4,
 "nbformat_minor": 5
}
