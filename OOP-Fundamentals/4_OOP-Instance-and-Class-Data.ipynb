{
 "cells": [
  {
   "cell_type": "markdown",
   "id": "add44138",
   "metadata": {},
   "source": [
    "Defining a Global Variable within a Class"
   ]
  },
  {
   "cell_type": "code",
   "execution_count": null,
   "id": "dacfac1d",
   "metadata": {},
   "outputs": [],
   "source": [
    "class NameofClass:\n",
    "    CLASS_ATTR_NAME = attr_value"
   ]
  },
  {
   "cell_type": "markdown",
   "id": "23cad778",
   "metadata": {},
   "source": [
    "The main use of Class Attributes:"
   ]
  },
  {
   "cell_type": "markdown",
   "id": "216ed01e",
   "metadata": {},
   "source": [
    "- Making use of global constants related to the class"
   ]
  },
  {
   "cell_type": "code",
   "execution_count": null,
   "id": "3fdcd4ba",
   "metadata": {},
   "outputs": [],
   "source": [
    "#defining a class \"Player\" that has a class attribute MAX_POSITION with value 10\n",
    "class Player:\n",
    "    MAX_POSITION = 10\n",
    "    \n",
    "    def __init__(self):\n",
    "      self.position = 0\n",
    "    #the __init__() method that sets the position instance attribute to 0\n",
    "\n",
    "p = Player() #creating a player p object and printing its maximum position\n",
    "print(p.MAX_POSITION)"
   ]
  }
 ],
 "metadata": {
  "kernelspec": {
   "display_name": "Python 3 (ipykernel)",
   "language": "python",
   "name": "python3"
  },
  "language_info": {
   "codemirror_mode": {
    "name": "ipython",
    "version": 3
   },
   "file_extension": ".py",
   "mimetype": "text/x-python",
   "name": "python",
   "nbconvert_exporter": "python",
   "pygments_lexer": "ipython3",
   "version": "3.9.7"
  }
 },
 "nbformat": 4,
 "nbformat_minor": 5
}
