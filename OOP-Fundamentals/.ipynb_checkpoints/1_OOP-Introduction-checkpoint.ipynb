{
 "cells": [
  {
   "cell_type": "markdown",
   "id": "c3413702",
   "metadata": {},
   "source": [
    "##### Objects"
   ]
  },
  {
   "cell_type": "markdown",
   "id": "b13679b8",
   "metadata": {},
   "source": [
    "- Object = state + behavior\n",
    "- everything in Python is an object\n",
    "- and every object has a class"
   ]
  },
  {
   "cell_type": "markdown",
   "id": "3d0f79a8",
   "metadata": {},
   "source": [
    "##### Encapsulation"
   ]
  },
  {
   "cell_type": "markdown",
   "id": "579cb18e",
   "metadata": {},
   "source": [
    "- the tenants of object oriented programming\n",
    "- it is a software design practice of bundling the data and the methods that operate on that data\n",
    "- bundling data with cope operating on it"
   ]
  },
  {
   "cell_type": "markdown",
   "id": "3381d509",
   "metadata": {},
   "source": [
    "##### Classes"
   ]
  },
  {
   "cell_type": "markdown",
   "id": "c3dfd334",
   "metadata": {},
   "source": [
    "- blueprint for objects outlining **possible** states and behaviors"
   ]
  },
  {
   "cell_type": "code",
   "execution_count": null,
   "id": "77f4356d",
   "metadata": {},
   "outputs": [],
   "source": [
    "#calling the class of an object\n",
    "\n",
    "type()"
   ]
  },
  {
   "cell_type": "markdown",
   "id": "d6c927fe",
   "metadata": {},
   "source": [
    "##### State of an Object --> contained in Attributes"
   ]
  },
  {
   "cell_type": "markdown",
   "id": "40815534",
   "metadata": {},
   "source": [
    "- represented by **variables**\n",
    "- ex: obj.my_attribute"
   ]
  },
  {
   "cell_type": "markdown",
   "id": "1adff2a3",
   "metadata": {},
   "source": [
    "##### Behavior of an Object --> contained in Methods"
   ]
  },
  {
   "cell_type": "markdown",
   "id": "5a835966",
   "metadata": {},
   "source": [
    "- represented by  **function()**\n",
    "- obj.my_method()"
   ]
  },
  {
   "cell_type": "code",
   "execution_count": null,
   "id": "da4a6d9e",
   "metadata": {},
   "outputs": [],
   "source": [
    "#list all attributes and methods of an object\n",
    "\n",
    "dir(object)"
   ]
  }
 ],
 "metadata": {
  "kernelspec": {
   "display_name": "Python 3 (ipykernel)",
   "language": "python",
   "name": "python3"
  },
  "language_info": {
   "codemirror_mode": {
    "name": "ipython",
    "version": 3
   },
   "file_extension": ".py",
   "mimetype": "text/x-python",
   "name": "python",
   "nbconvert_exporter": "python",
   "pygments_lexer": "ipython3",
   "version": "3.9.7"
  }
 },
 "nbformat": 4,
 "nbformat_minor": 5
}
