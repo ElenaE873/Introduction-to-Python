{
 "cells": [
  {
   "cell_type": "markdown",
   "id": "214efcb2",
   "metadata": {},
   "source": [
    "Python allows you to add a special method called \"Constructor\", that is automatically called every time an object is created."
   ]
  },
  {
   "cell_type": "code",
   "execution_count": null,
   "id": "4183490f",
   "metadata": {},
   "outputs": [],
   "source": [
    "class NameofClass:\n",
    "    def __init__(self, argument):\n",
    "        self.attribute = parameter\n",
    "        #creating attribute and setting it to the argument parameter\n",
    "        "
   ]
  },
  {
   "cell_type": "markdown",
   "id": "1e36b4eb",
   "metadata": {},
   "source": [
    "##### Approach 1 to Creating Attributes"
   ]
  },
  {
   "cell_type": "code",
   "execution_count": null,
   "id": "8e8b2f8f",
   "metadata": {},
   "outputs": [],
   "source": [
    "class NameofClass:\n",
    "    def method1(self, attr1):\n",
    "        self.attr1 = attr1\n",
    "        \n",
    "    def method2(self, attr2):\n",
    "        sef.attr2 = attr2"
   ]
  },
  {
   "cell_type": "code",
   "execution_count": null,
   "id": "1ffedada",
   "metadata": {},
   "outputs": [],
   "source": [
    "obj = NameofClass()\n",
    "obj.method1(val1) #<--- attr1 created\n",
    "obj.method2(val2) #<--- attr2 created"
   ]
  },
  {
   "cell_type": "markdown",
   "id": "c00a4679",
   "metadata": {},
   "source": [
    "##### Approach 2 - Using the Constructor"
   ]
  },
  {
   "cell_type": "code",
   "execution_count": null,
   "id": "cd18ecb6",
   "metadata": {},
   "outputs": [],
   "source": [
    "class NameofClass:\n",
    "    def __init__(self, attr1, attr2):\n",
    "        self.attr1 = attr1\n",
    "        self.attr2 = attr2"
   ]
  },
  {
   "cell_type": "code",
   "execution_count": null,
   "id": "91a930c4",
   "metadata": {},
   "outputs": [],
   "source": [
    "obj = NameofClass(val1, val2)"
   ]
  },
  {
   "cell_type": "markdown",
   "id": "bf8379a4",
   "metadata": {},
   "source": [
    "This allows for:\n",
    "- easier creation of all attributes in cleaner more efficient code\n",
    "- attributes are created when the object is created"
   ]
  }
 ],
 "metadata": {
  "kernelspec": {
   "display_name": "Python 3 (ipykernel)",
   "language": "python",
   "name": "python3"
  },
  "language_info": {
   "codemirror_mode": {
    "name": "ipython",
    "version": 3
   },
   "file_extension": ".py",
   "mimetype": "text/x-python",
   "name": "python",
   "nbconvert_exporter": "python",
   "pygments_lexer": "ipython3",
   "version": "3.9.7"
  }
 },
 "nbformat": 4,
 "nbformat_minor": 5
}
