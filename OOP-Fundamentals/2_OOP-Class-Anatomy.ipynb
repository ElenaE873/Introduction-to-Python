{
 "cells": [
  {
   "cell_type": "markdown",
   "id": "036b0d9e",
   "metadata": {},
   "source": [
    "##### Class Definition"
   ]
  },
  {
   "cell_type": "code",
   "execution_count": null,
   "id": "296165d4",
   "metadata": {},
   "outputs": [],
   "source": [
    "#starting a class definition\n",
    "\n",
    "class NameofClass:\n",
    "    #code for class\n",
    "    pass\n",
    "\n",
    "#this creates an empty class"
   ]
  },
  {
   "cell_type": "code",
   "execution_count": null,
   "id": "c21a1255",
   "metadata": {},
   "outputs": [],
   "source": [
    "#creating an object of empty class\n",
    "c1 = NameofClass()  #empty class\n",
    "\n",
    "#c1 is the object of the empty class above"
   ]
  },
  {
   "cell_type": "markdown",
   "id": "a54d0184",
   "metadata": {},
   "source": [
    "##### Defining a Method"
   ]
  },
  {
   "cell_type": "markdown",
   "id": "95903ae7",
   "metadata": {},
   "source": [
    "- methods are functions\n",
    "- definition of a method looks like python function\n",
    "- the main exception is the \"self\" argument, as the first argument always"
   ]
  },
  {
   "cell_type": "code",
   "execution_count": null,
   "id": "efae134a",
   "metadata": {},
   "outputs": [],
   "source": [
    "def method(self, name):\n",
    "    print(\"\" + name)"
   ]
  },
  {
   "cell_type": "code",
   "execution_count": null,
   "id": "7ddeed42",
   "metadata": {},
   "outputs": [],
   "source": [
    "c1 = NameofClass()\n",
    "c1.method(\"Name\")\n",
    "#passing the name argument through the method just defined\n",
    "#the self argument is not needed in the method call"
   ]
  },
  {
   "cell_type": "markdown",
   "id": "f4639f79",
   "metadata": {},
   "source": [
    "##### what is the SELF argument?"
   ]
  },
  {
   "cell_type": "markdown",
   "id": "4bc471ad",
   "metadata": {},
   "source": [
    "- classes are \"templates\"\n",
    "- objects of a class don't yet exist when a class is being defined\n",
    "- but we may need a way to refer to the data of a particular object within class definition\n",
    "- the self, servers as a \"stand-in\" for the future object\n",
    "- this is why EVERY method SHOULD HAVE the self argument\n",
    "- it can be used to access attributes and call other methods from within the class definition even when no objects are created yet"
   ]
  },
  {
   "cell_type": "code",
   "execution_count": null,
   "id": "f045ea8d",
   "metadata": {},
   "outputs": [],
   "source": [
    "class NameofClass:\n",
    "    #code for class\n",
    "    \n",
    "    def NameofMethod(self, passing_argument):\n",
    "        #creating an attribute by assigning it a value\n",
    "        self.argument = passing_argument #<--- will create create .argument when set_argument is called\n",
    "        #self is a stand-in for object\n",
    "    "
   ]
  },
  {
   "cell_type": "code",
   "execution_count": null,
   "id": "d6921baf",
   "metadata": {},
   "outputs": [],
   "source": [
    "variable = NameofClass()\n",
    "variable.set_argument(\"Passing argument\")"
   ]
  }
 ],
 "metadata": {
  "kernelspec": {
   "display_name": "Python 3 (ipykernel)",
   "language": "python",
   "name": "python3"
  },
  "language_info": {
   "codemirror_mode": {
    "name": "ipython",
    "version": 3
   },
   "file_extension": ".py",
   "mimetype": "text/x-python",
   "name": "python",
   "nbconvert_exporter": "python",
   "pygments_lexer": "ipython3",
   "version": "3.9.7"
  }
 },
 "nbformat": 4,
 "nbformat_minor": 5
}
