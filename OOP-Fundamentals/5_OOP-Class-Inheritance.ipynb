{
 "cells": [
  {
   "cell_type": "markdown",
   "id": "1a4a90ff",
   "metadata": {},
   "source": [
    "OOP\n",
    "- fundamentally functions for code reuse\n",
    "- modules are great for fixed functionality\n",
    "- OOP is great for customizing functionality"
   ]
  },
  {
   "cell_type": "markdown",
   "id": "a61dae06",
   "metadata": {},
   "source": [
    "##### Inheritance"
   ]
  },
  {
   "cell_type": "markdown",
   "id": "038a0d80",
   "metadata": {},
   "source": [
    "- Inheritance \"is-a\" relationship"
   ]
  }
 ],
 "metadata": {
  "kernelspec": {
   "display_name": "Python 3 (ipykernel)",
   "language": "python",
   "name": "python3"
  },
  "language_info": {
   "codemirror_mode": {
    "name": "ipython",
    "version": 3
   },
   "file_extension": ".py",
   "mimetype": "text/x-python",
   "name": "python",
   "nbconvert_exporter": "python",
   "pygments_lexer": "ipython3",
   "version": "3.9.7"
  }
 },
 "nbformat": 4,
 "nbformat_minor": 5
}
