{
 "cells": [
  {
   "cell_type": "markdown",
   "id": "6f931acc",
   "metadata": {},
   "source": [
    "- high level data manipulation tool\n",
    "- built on NumPy"
   ]
  },
  {
   "cell_type": "code",
   "execution_count": null,
   "id": "44fceaa0",
   "metadata": {},
   "outputs": [],
   "source": [
    "#building a dataframe from a dictionary\n",
    "#by passsing a dictionary through \n",
    "import pandas as pd\n",
    "dictionary_df = pd.DataFrame(dictionary_name)"
   ]
  },
  {
   "cell_type": "markdown",
   "id": "37e652eb",
   "metadata": {},
   "source": [
    "#### indexing and selecting data from dataframes"
   ]
  },
  {
   "cell_type": "code",
   "execution_count": null,
   "id": "1d17269d",
   "metadata": {},
   "outputs": [],
   "source": [
    "#selecting a specific column from dataframe\n",
    "dataframe[\"column_name\"]\n",
    "\n",
    "#this results in a pandas series object"
   ]
  },
  {
   "cell_type": "code",
   "execution_count": null,
   "id": "68ea386d",
   "metadata": {},
   "outputs": [],
   "source": [
    "#using double square brakets to keep the data in a dataframe type\n",
    "dataframe[[\"column_name\"]]"
   ]
  },
  {
   "cell_type": "code",
   "execution_count": null,
   "id": "cec10012",
   "metadata": {},
   "outputs": [],
   "source": [
    "#you can extend to multiple columns\n",
    "dataframe[[\"column1\", \"column2\"]]"
   ]
  },
  {
   "cell_type": "markdown",
   "id": "714bc9cc",
   "metadata": {},
   "source": [
    "#### loc and iloc functions"
   ]
  },
  {
   "cell_type": "markdown",
   "id": "c1d56ead",
   "metadata": {},
   "source": [
    "loc:\n",
    "- label-based\n",
    "- uses the row index\n",
    "\n",
    "iloc:\n",
    "- integer position-based"
   ]
  },
  {
   "cell_type": "markdown",
   "id": "013afbbc",
   "metadata": {},
   "source": [
    "#### using loc"
   ]
  },
  {
   "cell_type": "code",
   "execution_count": null,
   "id": "1fdecac2",
   "metadata": {},
   "outputs": [],
   "source": [
    "df.loc[\"index_label\"]\n",
    "#this returns a pandas series with all the row information\n",
    "\n",
    "#again, if we want this to remain a dataframe datatype, double brakets\n",
    "df.loc[[\"index_label\"]]"
   ]
  },
  {
   "cell_type": "code",
   "execution_count": null,
   "id": "dced5911",
   "metadata": {},
   "outputs": [],
   "source": [
    "#choosing by rows and columns\n",
    "df.loc[[\"index_row_label1\", \"index_row_label2\"],  #selecting for the rows\n",
    "      [\"column1\", \"column2\"]]  #selecting for specific columns"
   ]
  },
  {
   "cell_type": "markdown",
   "id": "f407c37c",
   "metadata": {},
   "source": [
    "#### using iloc"
   ]
  },
  {
   "cell_type": "markdown",
   "id": "d8d3dde2",
   "metadata": {},
   "source": [
    "- functions in a similar way as the label, however now using the numerical index of the rows"
   ]
  },
  {
   "cell_type": "code",
   "execution_count": null,
   "id": "bf444b65",
   "metadata": {},
   "outputs": [],
   "source": [
    "df.loc[[\"index_label1\"]]\n",
    "\n",
    "#or\n",
    "df.iloc[[1]]"
   ]
  },
  {
   "cell_type": "code",
   "execution_count": null,
   "id": "f465f999",
   "metadata": {},
   "outputs": [],
   "source": [
    "#choosing by rows and columns\n",
    "df.loc[[\"index_row_label1\", \"index_row_label2\"],  #selecting for the rows\n",
    "      [\"column1\", \"column2\"]]  #selecting for specific columns\n",
    "\n",
    "#or\n",
    "df.iloc[[1,2],\n",
    "       [0, 1]]"
   ]
  },
  {
   "cell_type": "code",
   "execution_count": null,
   "id": "37c9c147",
   "metadata": {},
   "outputs": [],
   "source": [
    "df.iloc[:, #selecting for all rows\n",
    "       [0,1]] #selecting for only the first two columns"
   ]
  },
  {
   "cell_type": "markdown",
   "id": "cb6cd34c",
   "metadata": {},
   "source": [
    "#### examples:"
   ]
  },
  {
   "cell_type": "code",
   "execution_count": null,
   "id": "0c6d6d10",
   "metadata": {},
   "outputs": [],
   "source": [
    "#printing out the first 3 observations\n",
    "print(df[0:3])\n",
    "\n",
    "# Print out fourth, fifth and sixth observation\n",
    "print(df[3:6])"
   ]
  }
 ],
 "metadata": {
  "kernelspec": {
   "display_name": "Python 3 (ipykernel)",
   "language": "python",
   "name": "python3"
  },
  "language_info": {
   "codemirror_mode": {
    "name": "ipython",
    "version": 3
   },
   "file_extension": ".py",
   "mimetype": "text/x-python",
   "name": "python",
   "nbconvert_exporter": "python",
   "pygments_lexer": "ipython3",
   "version": "3.9.7"
  }
 },
 "nbformat": 4,
 "nbformat_minor": 5
}
