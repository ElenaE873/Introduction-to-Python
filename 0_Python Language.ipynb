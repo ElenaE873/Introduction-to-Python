{
 "cells": [
  {
   "cell_type": "markdown",
   "id": "a0678f27",
   "metadata": {},
   "source": [
    "### iPython Shell"
   ]
  },
  {
   "cell_type": "markdown",
   "id": "7154ccff",
   "metadata": {},
   "source": [
    "- juiced up version of python\n",
    "- part of the greater Jupyter system\n",
    "- .py text python scripts"
   ]
  },
  {
   "cell_type": "markdown",
   "id": "378bfaa5",
   "metadata": {},
   "source": [
    "Use python for things like:\n",
    "- do some quick calculations\n",
    "- new business data-driven solutions\n",
    "- clean and analyze the results for some data"
   ]
  },
  {
   "cell_type": "markdown",
   "id": "406158cb",
   "metadata": {},
   "source": [
    "### Packages"
   ]
  },
  {
   "cell_type": "markdown",
   "id": "6b4fe317",
   "metadata": {},
   "source": [
    "- 1 - Download get-pip.py \n",
    "from (http://pip.readthedocs.org/en/stable/installing)\n",
    "\n",
    "- 2 - Terminal: \n",
    "- python3 get-pip.py\n",
    "- pip3 install numpy (or whichever other package you need)"
   ]
  },
  {
   "cell_type": "markdown",
   "id": "8a529baf",
   "metadata": {},
   "source": [
    "### Numpy"
   ]
  },
  {
   "cell_type": "markdown",
   "id": "f9394431",
   "metadata": {},
   "source": [
    "- mathematical operations over collections\n",
    "- fast speed\n",
    "- numeric python\n",
    "- alternative to python list is the numpy array\n",
    "- calculations over entire arrays"
   ]
  },
  {
   "cell_type": "code",
   "execution_count": null,
   "id": "6bb9930b",
   "metadata": {},
   "outputs": [],
   "source": []
  }
 ],
 "metadata": {
  "kernelspec": {
   "display_name": "Python 3 (ipykernel)",
   "language": "python",
   "name": "python3"
  },
  "language_info": {
   "codemirror_mode": {
    "name": "ipython",
    "version": 3
   },
   "file_extension": ".py",
   "mimetype": "text/x-python",
   "name": "python",
   "nbconvert_exporter": "python",
   "pygments_lexer": "ipython3",
   "version": "3.9.7"
  }
 },
 "nbformat": 4,
 "nbformat_minor": 5
}
