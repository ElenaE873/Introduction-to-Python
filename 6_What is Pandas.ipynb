{
 "cells": [
  {
   "cell_type": "markdown",
   "id": "7a9a14e9",
   "metadata": {},
   "source": [
    "- used for tabular data (spreadsheets or database tables)\n",
    "- search for particular rows or columns\n",
    "- calculate aggregate statistics\n",
    "- combine data from multiple sourcs"
   ]
  },
  {
   "cell_type": "markdown",
   "id": "d44c66c7",
   "metadata": {},
   "source": [
    "### Load"
   ]
  },
  {
   "cell_type": "markdown",
   "id": "7509e5e9",
   "metadata": {},
   "source": [
    "Dataframe - is a type of datatype\n",
    "- easiest way to create a dataframe is by a csv (text only file)"
   ]
  },
  {
   "cell_type": "code",
   "execution_count": null,
   "id": "37c88511",
   "metadata": {},
   "outputs": [],
   "source": [
    "pd.read_csv('Dataframe.csv')  #converting csv into dataframe"
   ]
  },
  {
   "cell_type": "markdown",
   "id": "4887047e",
   "metadata": {},
   "source": [
    "### Inspecting"
   ]
  },
  {
   "cell_type": "code",
   "execution_count": null,
   "id": "6d1bb5bf",
   "metadata": {},
   "outputs": [],
   "source": [
    "df.head() #method function, just selects the first 5 rows\n",
    "print(df.head()) #viewing the 5 rows"
   ]
  },
  {
   "cell_type": "code",
   "execution_count": null,
   "id": "3d676d43",
   "metadata": {},
   "outputs": [],
   "source": [
    "df.info()\n",
    "print(df.info())\n",
    "#method is particular good for a big dataframe"
   ]
  }
 ],
 "metadata": {
  "kernelspec": {
   "display_name": "Python 3 (ipykernel)",
   "language": "python",
   "name": "python3"
  },
  "language_info": {
   "codemirror_mode": {
    "name": "ipython",
    "version": 3
   },
   "file_extension": ".py",
   "mimetype": "text/x-python",
   "name": "python",
   "nbconvert_exporter": "python",
   "pygments_lexer": "ipython3",
   "version": "3.9.7"
  }
 },
 "nbformat": 4,
 "nbformat_minor": 5
}
