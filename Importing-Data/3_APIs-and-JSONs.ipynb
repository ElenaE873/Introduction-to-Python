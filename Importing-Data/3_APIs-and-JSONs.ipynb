{
 "cells": [
  {
   "cell_type": "markdown",
   "id": "25b3d37e",
   "metadata": {},
   "source": [
    "#### APIs"
   ]
  },
  {
   "cell_type": "markdown",
   "id": "50917d47",
   "metadata": {},
   "source": [
    "- Application Programming Interface\n",
    "- set of Protocols and Routines for Building / interacting with software applications\n",
    "- aka. it allows two software programs to communicate with each other"
   ]
  },
  {
   "cell_type": "markdown",
   "id": "a3e3009c",
   "metadata": {},
   "source": [
    "##### JSONs"
   ]
  },
  {
   "cell_type": "markdown",
   "id": "d20da257",
   "metadata": {},
   "source": [
    "- a standard form for transfering data through APIs\n",
    "- JavaScript Object Notation\n",
    "- arose out of a need for real-time server-to-browser communication"
   ]
  },
  {
   "cell_type": "markdown",
   "id": "13f4360f",
   "metadata": {},
   "source": [
    "- JSON consists of NAME-VALUE pairs SEPARATED by Commas\n",
    "- this is similar to a dictionary in python\n",
    "- as a result when loading JSON in Python, it is natural to store them in a dictionary"
   ]
  },
  {
   "cell_type": "markdown",
   "id": "1adfe256",
   "metadata": {},
   "source": [
    "##### keys"
   ]
  },
  {
   "cell_type": "markdown",
   "id": "5b661aaf",
   "metadata": {},
   "source": [
    "- will always be STRINGS enclosed in quotations marks"
   ]
  },
  {
   "cell_type": "markdown",
   "id": "7ac637e9",
   "metadata": {},
   "source": [
    "##### values"
   ]
  },
  {
   "cell_type": "markdown",
   "id": "57eb43d2",
   "metadata": {},
   "source": [
    "- can be strings, integers, arrays, or even objects\n",
    "- such an object can even be a JSON and then you have nested JSONs"
   ]
  },
  {
   "cell_type": "markdown",
   "id": "105febcb",
   "metadata": {},
   "source": [
    "##### loading JSON from local directory"
   ]
  },
  {
   "cell_type": "code",
   "execution_count": null,
   "id": "390cae0e",
   "metadata": {},
   "outputs": [],
   "source": [
    "import json\n",
    "\n",
    "with open('filename.json', 'r') as json_file:\n",
    "    json_data = json.load(json_file)\n",
    "    \n",
    "#checking to see that json is imported as a dictionary type\n",
    "type(json_data)"
   ]
  },
  {
   "cell_type": "code",
   "execution_count": null,
   "id": "fdbbc1a9",
   "metadata": {},
   "outputs": [],
   "source": [
    "# Print each key-value pair in json_data\n",
    "for k in json_data.keys():\n",
    "    print(k + ': ', json_data[k])"
   ]
  },
  {
   "cell_type": "markdown",
   "id": "e45ef50c",
   "metadata": {},
   "source": [
    "##### connecting to an API"
   ]
  },
  {
   "cell_type": "code",
   "execution_count": null,
   "id": "0fbaa084",
   "metadata": {},
   "outputs": [],
   "source": [
    "import requests\n",
    "\n",
    "url = 'website-url'\n",
    "r = requests.get(url)\n",
    "\n",
    "#response object has a json decoder and returns a dictionary\n",
    "json_data = r.json()\n",
    "\n",
    "#can pull the dictionary to see what's been pulled\n",
    "for key, value in json_data.items():\n",
    "    print(key + ':', value)"
   ]
  },
  {
   "cell_type": "markdown",
   "id": "275a8a78",
   "metadata": {},
   "source": [
    "URL request for API connection\n",
    "- \"http\" - indicates an HTTP request is being made\n",
    "- \"www.omdbapi.com\" - querying the OMDB API, for example\n",
    "- \"?t=hackers\" - query string that makes the query\n",
    "    - in this case: returns the data for a move with title (t) 'Hackers'\n",
    "\n",
    "Where can this information about the api url be found?\n",
    "- documentation such as this can usually be found on the API website\n",
    "\n",
    "Example:\n",
    "- API Domain: http://www.omdbapi.com\n",
    "- Query String, two arguments:\n",
    "    - apikey=72bc447a\n",
    "    - t=the+social+network\n",
    "    \n",
    "Combined:\n",
    "- http://www.omdbapi.com/?apikey=72bc447a&t=the+social+network"
   ]
  }
 ],
 "metadata": {
  "kernelspec": {
   "display_name": "Python 3 (ipykernel)",
   "language": "python",
   "name": "python3"
  },
  "language_info": {
   "codemirror_mode": {
    "name": "ipython",
    "version": 3
   },
   "file_extension": ".py",
   "mimetype": "text/x-python",
   "name": "python",
   "nbconvert_exporter": "python",
   "pygments_lexer": "ipython3",
   "version": "3.9.7"
  }
 },
 "nbformat": 4,
 "nbformat_minor": 5
}
