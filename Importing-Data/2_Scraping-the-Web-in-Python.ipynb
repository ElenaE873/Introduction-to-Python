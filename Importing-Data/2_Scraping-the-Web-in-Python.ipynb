{
 "cells": [
  {
   "cell_type": "markdown",
   "id": "0efaa52f",
   "metadata": {},
   "source": [
    "##### BeautifulSoup package"
   ]
  },
  {
   "cell_type": "markdown",
   "id": "3daad69f",
   "metadata": {},
   "source": [
    "- parse and extract structured data from HTML"
   ]
  },
  {
   "cell_type": "code",
   "execution_count": null,
   "id": "9b2ef5dc",
   "metadata": {},
   "outputs": [],
   "source": [
    "from bs4 import BeautifulSoup\n",
    "\n",
    "#using requests to scrape html from the web\n",
    "import requests\n",
    "\n",
    "url=\"website_url\"\n",
    "r=requests.get(url)\n",
    "\n",
    "html_doc = r.text\n",
    "\n",
    "soup = BeautifulSoup(html_doc)\n",
    "\n",
    "print(soup.prettify())"
   ]
  },
  {
   "cell_type": "markdown",
   "id": "5af6400c",
   "metadata": {},
   "source": [
    "##### Prettified Soup"
   ]
  },
  {
   "cell_type": "markdown",
   "id": "75e8d2ed",
   "metadata": {},
   "source": [
    "- indented html"
   ]
  },
  {
   "cell_type": "markdown",
   "id": "108e805d",
   "metadata": {},
   "source": [
    "##### Exploring Associated Methods"
   ]
  },
  {
   "cell_type": "code",
   "execution_count": null,
   "id": "fa54d6db",
   "metadata": {},
   "outputs": [],
   "source": [
    ".title\n",
    ".get_text()"
   ]
  },
  {
   "cell_type": "code",
   "execution_count": null,
   "id": "e0aa6fda",
   "metadata": {},
   "outputs": [],
   "source": [
    "#track all hyperlinks in the html\n",
    "for link in soup.find_all('a'):\n",
    "    print(link.get('href'))"
   ]
  }
 ],
 "metadata": {
  "kernelspec": {
   "display_name": "Python 3 (ipykernel)",
   "language": "python",
   "name": "python3"
  },
  "language_info": {
   "codemirror_mode": {
    "name": "ipython",
    "version": 3
   },
   "file_extension": ".py",
   "mimetype": "text/x-python",
   "name": "python",
   "nbconvert_exporter": "python",
   "pygments_lexer": "ipython3",
   "version": "3.9.7"
  }
 },
 "nbformat": 4,
 "nbformat_minor": 5
}
