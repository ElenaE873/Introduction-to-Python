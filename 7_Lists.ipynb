{
 "cells": [
  {
   "cell_type": "markdown",
   "id": "30b1341e",
   "metadata": {},
   "source": [
    "### Lists"
   ]
  },
  {
   "cell_type": "markdown",
   "id": "f3ded342",
   "metadata": {},
   "source": [
    "- name a collection of values\n",
    "- contain any type\n",
    "- contain different types\n",
    "- specific functionality\n",
    "- specific purposes"
   ]
  },
  {
   "cell_type": "markdown",
   "id": "32f41101",
   "metadata": {},
   "source": [
    "### Designated by SQUARE Brackets"
   ]
  },
  {
   "cell_type": "code",
   "execution_count": null,
   "id": "d32e44f0",
   "metadata": {},
   "outputs": [],
   "source": [
    "#a list\n",
    "[a,b,c]"
   ]
  },
  {
   "cell_type": "markdown",
   "id": "304ccfd8",
   "metadata": {},
   "source": [
    "### Lists of Lists"
   ]
  },
  {
   "cell_type": "markdown",
   "id": "43e7c3aa",
   "metadata": {},
   "source": [
    "- list1 = [a,b,c]\n",
    "- list2 = [[a,b,c], c]\n",
    "list 2 shows list 1 inserted into list 2"
   ]
  },
  {
   "cell_type": "markdown",
   "id": "06ec3512",
   "metadata": {},
   "source": [
    "### Index of Lists"
   ]
  },
  {
   "cell_type": "code",
   "execution_count": null,
   "id": "2c96791c",
   "metadata": {},
   "outputs": [],
   "source": [
    "#selecting an element from a list\n",
    "df[index]\n",
    "\n",
    "#index of a list start at 0\n",
    "df[0] #result of the first item in the index"
   ]
  },
  {
   "cell_type": "code",
   "execution_count": null,
   "id": "9fc1f026",
   "metadata": {},
   "outputs": [],
   "source": [
    "#range using colon\n",
    "df[indexstart(including) : indextstop(excluding)]"
   ]
  },
  {
   "cell_type": "markdown",
   "id": "6305afd4",
   "metadata": {},
   "source": [
    "### Manipulation of Lists"
   ]
  },
  {
   "cell_type": "markdown",
   "id": "b446a8f7",
   "metadata": {},
   "source": [
    "- change elements\n",
    "- add/remove elements"
   ]
  },
  {
   "cell_type": "markdown",
   "id": "610fb3c5",
   "metadata": {},
   "source": [
    "- done by restating the variable with the new values and ensuring the index is stated correctly, where those changes should take place, and the variable is updated with the new values"
   ]
  },
  {
   "cell_type": "code",
   "execution_count": null,
   "id": "be408ad2",
   "metadata": {},
   "outputs": [],
   "source": [
    "#adding:\n",
    "df +['item1','item2']\n",
    "\n",
    "#could also be stored in a new variable\n",
    "newdf = df +['item1','item2']"
   ]
  },
  {
   "cell_type": "code",
   "execution_count": null,
   "id": "4d70764e",
   "metadata": {},
   "outputs": [],
   "source": [
    "#deleting by index 2 item\n",
    "del(df[2])"
   ]
  },
  {
   "cell_type": "markdown",
   "id": "81277b77",
   "metadata": {},
   "source": [
    "### Copying the Reference to the List notion"
   ]
  },
  {
   "cell_type": "code",
   "execution_count": 2,
   "id": "2e1e9525",
   "metadata": {},
   "outputs": [],
   "source": [
    "#having an initial list x\n",
    "x = [\"a\", \"b\", \"c\"]\n",
    "\n",
    "#assigning x to y\n",
    "y = x  #both one and the same and this is why the change is visible to both\n",
    "\n",
    "#changing 2nd item in the list for y automatically changes the second in the x\n",
    "y[1] = \"z\"\n"
   ]
  },
  {
   "cell_type": "code",
   "execution_count": 3,
   "id": "3d93ce28",
   "metadata": {},
   "outputs": [
    {
     "data": {
      "text/plain": [
       "['a', 'z', 'c']"
      ]
     },
     "execution_count": 3,
     "metadata": {},
     "output_type": "execute_result"
    }
   ],
   "source": [
    "y"
   ]
  },
  {
   "cell_type": "code",
   "execution_count": 5,
   "id": "c289fb7a",
   "metadata": {},
   "outputs": [
    {
     "data": {
      "text/plain": [
       "['a', 'z', 'c']"
      ]
     },
     "execution_count": 5,
     "metadata": {},
     "output_type": "execute_result"
    }
   ],
   "source": [
    "x"
   ]
  },
  {
   "cell_type": "code",
   "execution_count": null,
   "id": "c0af7bba",
   "metadata": {},
   "outputs": [],
   "source": []
  },
  {
   "cell_type": "markdown",
   "id": "opened-education",
   "metadata": {},
   "source": [
    "### Python Basics - Lists"
   ]
  },
  {
   "cell_type": "markdown",
   "id": "noticed-jumping",
   "metadata": {},
   "source": [
    "This content was learned from the #30daysofML challenge, lesson 4 - https://www.kaggle.com/colinmorris/lists Much of the original content was deleted, only the open-source code was kept, along with some little markdown content. Most of the notes and order of the notebook was redone in reflection of my understanding with the perspective of using the notebook as a template to draw from.\n"
   ]
  },
  {
   "cell_type": "markdown",
   "id": "psychological-disposal",
   "metadata": {},
   "source": [
    "What is covered in this notebook:\n",
    "- What are lists\n",
    "- Indexing\n",
    "- Splicing\n",
    "- Changing Lists\n",
    "- List Functions\n",
    "- List Methods\n",
    "- Searching Lists"
   ]
  },
  {
   "cell_type": "markdown",
   "id": "white-chapter",
   "metadata": {},
   "source": [
    "### What are lists"
   ]
  },
  {
   "cell_type": "markdown",
   "id": "metallic-douglas",
   "metadata": {},
   "source": [
    "Lists are just an ordered set of values.   \n",
    "- These values can be numbers OR strings, or a mix of type of variables"
   ]
  },
  {
   "cell_type": "markdown",
   "id": "prostate-forestry",
   "metadata": {},
   "source": [
    "### Indexing"
   ]
  },
  {
   "cell_type": "code",
   "execution_count": 1,
   "id": "speaking-paradise",
   "metadata": {},
   "outputs": [
    {
     "data": {
      "text/plain": [
       "'Mercury'"
      ]
     },
     "execution_count": 1,
     "metadata": {},
     "output_type": "execute_result"
    }
   ],
   "source": [
    "planets = ['Mercury', 'Venus', 'Earth', 'Mars', 'Jupiter', 'Saturn', 'Uranus', 'Neptune']\n",
    "planets[0]"
   ]
  },
  {
   "cell_type": "code",
   "execution_count": 2,
   "id": "italic-single",
   "metadata": {},
   "outputs": [
    {
     "data": {
      "text/plain": [
       "'Uranus'"
      ]
     },
     "execution_count": 2,
     "metadata": {},
     "output_type": "execute_result"
    }
   ],
   "source": [
    "planets[-2]"
   ]
  },
  {
   "cell_type": "markdown",
   "id": "dress-headquarters",
   "metadata": {},
   "source": [
    "### Slicing"
   ]
  },
  {
   "cell_type": "code",
   "execution_count": 3,
   "id": "artistic-condition",
   "metadata": {},
   "outputs": [
    {
     "data": {
      "text/plain": [
       "['Mercury', 'Venus', 'Earth']"
      ]
     },
     "execution_count": 3,
     "metadata": {},
     "output_type": "execute_result"
    }
   ],
   "source": [
    "planets[0:3] \n",
    "#starting from index 0 and continuing UP TO but NOT INCLUDING 3"
   ]
  },
  {
   "cell_type": "code",
   "execution_count": 4,
   "id": "capital-porcelain",
   "metadata": {},
   "outputs": [
    {
     "data": {
      "text/plain": [
       "['Mars', 'Jupiter', 'Saturn', 'Uranus', 'Neptune']"
      ]
     },
     "execution_count": 4,
     "metadata": {},
     "output_type": "execute_result"
    }
   ],
   "source": [
    "#starting and ending indices is option.  \n",
    "planets[:3]"
   ]
  },
  {
   "cell_type": "code",
   "execution_count": 5,
   "id": "motivated-parallel",
   "metadata": {},
   "outputs": [
    {
     "data": {
      "text/plain": [
       "['Mars', 'Jupiter', 'Saturn', 'Uranus', 'Neptune']"
      ]
     },
     "execution_count": 5,
     "metadata": {},
     "output_type": "execute_result"
    }
   ],
   "source": [
    "planets[3:]"
   ]
  },
  {
   "cell_type": "code",
   "execution_count": 6,
   "id": "conceptual-essay",
   "metadata": {},
   "outputs": [
    {
     "data": {
      "text/plain": [
       "['Venus', 'Earth', 'Mars', 'Jupiter', 'Saturn', 'Uranus']"
      ]
     },
     "execution_count": 6,
     "metadata": {},
     "output_type": "execute_result"
    }
   ],
   "source": [
    "# All the planets except the first and last\n",
    "planets[1:-1]"
   ]
  },
  {
   "cell_type": "code",
   "execution_count": 7,
   "id": "composite-european",
   "metadata": {},
   "outputs": [
    {
     "data": {
      "text/plain": [
       "['Saturn', 'Uranus', 'Neptune']"
      ]
     },
     "execution_count": 7,
     "metadata": {},
     "output_type": "execute_result"
    }
   ],
   "source": [
    "# The last 3 planets\n",
    "planets[-3:]"
   ]
  },
  {
   "cell_type": "markdown",
   "id": "pretty-verse",
   "metadata": {},
   "source": [
    "### Changing Lists"
   ]
  },
  {
   "cell_type": "code",
   "execution_count": 8,
   "id": "hydraulic-kentucky",
   "metadata": {},
   "outputs": [
    {
     "data": {
      "text/plain": [
       "['Mercury',\n",
       " 'Venus',\n",
       " 'Earth',\n",
       " 'Malacandra',\n",
       " 'Jupiter',\n",
       " 'Saturn',\n",
       " 'Uranus',\n",
       " 'Neptune']"
      ]
     },
     "execution_count": 8,
     "metadata": {},
     "output_type": "execute_result"
    }
   ],
   "source": [
    "planets[3] = 'Malacandra'\n",
    "planets"
   ]
  },
  {
   "cell_type": "code",
   "execution_count": 10,
   "id": "optical-democrat",
   "metadata": {},
   "outputs": [
    {
     "name": "stdout",
     "output_type": "stream",
     "text": [
      "['Mur', 'Vee', 'Ur', 'Mars', 'Jupiter', 'Saturn', 'Uranus', 'Neptune']\n",
      "['Mercury', 'Venus', 'Earth', 'Mars', 'Jupiter', 'Saturn', 'Uranus', 'Neptune']\n"
     ]
    }
   ],
   "source": [
    "planets[:3] = ['Mur', 'Vee', 'Ur']\n",
    "print(planets)\n",
    "# That was silly. Let's give them back their old names\n",
    "planets[:4] = ['Mercury', 'Venus', 'Earth', 'Mars',]\n",
    "print(planets)"
   ]
  },
  {
   "cell_type": "markdown",
   "id": "fuzzy-proxy",
   "metadata": {},
   "source": [
    "### List Functions"
   ]
  },
  {
   "cell_type": "code",
   "execution_count": 11,
   "id": "minimal-kelly",
   "metadata": {},
   "outputs": [
    {
     "data": {
      "text/plain": [
       "8"
      ]
     },
     "execution_count": 11,
     "metadata": {},
     "output_type": "execute_result"
    }
   ],
   "source": [
    "# How many planets are there?\n",
    "len(planets)"
   ]
  },
  {
   "cell_type": "code",
   "execution_count": 12,
   "id": "legal-crawford",
   "metadata": {},
   "outputs": [
    {
     "data": {
      "text/plain": [
       "['Earth', 'Jupiter', 'Mars', 'Mercury', 'Neptune', 'Saturn', 'Uranus', 'Venus']"
      ]
     },
     "execution_count": 12,
     "metadata": {},
     "output_type": "execute_result"
    }
   ],
   "source": [
    "# The planets sorted in alphabetical order\n",
    "sorted(planets)"
   ]
  },
  {
   "cell_type": "code",
   "execution_count": 13,
   "id": "sound-yellow",
   "metadata": {},
   "outputs": [
    {
     "data": {
      "text/plain": [
       "17"
      ]
     },
     "execution_count": 13,
     "metadata": {},
     "output_type": "execute_result"
    }
   ],
   "source": [
    "primes = [2, 3, 5, 7]\n",
    "sum(primes)"
   ]
  },
  {
   "cell_type": "code",
   "execution_count": 14,
   "id": "virgin-meaning",
   "metadata": {},
   "outputs": [
    {
     "data": {
      "text/plain": [
       "7"
      ]
     },
     "execution_count": 14,
     "metadata": {},
     "output_type": "execute_result"
    }
   ],
   "source": [
    "max(primes)"
   ]
  },
  {
   "cell_type": "markdown",
   "id": "other-cartridge",
   "metadata": {},
   "source": [
    "### List Methods"
   ]
  },
  {
   "cell_type": "code",
   "execution_count": 15,
   "id": "first-brave",
   "metadata": {},
   "outputs": [],
   "source": [
    "planets.append('Pluto')"
   ]
  },
  {
   "cell_type": "markdown",
   "id": "original-category",
   "metadata": {},
   "source": [
    "help(planets.append): \n",
    "- append is a method carried around by all objects of type list, not just planets, so we also could have called help(list.append). However, if we try to call help(append), Python will complain that no variable exists called \"append\". The \"append\" name only exists within lists - it doesn't exist as a standalone name like builtin functions such as max or len."
   ]
  },
  {
   "cell_type": "code",
   "execution_count": 16,
   "id": "bearing-transcript",
   "metadata": {},
   "outputs": [
    {
     "data": {
      "text/plain": [
       "['Mercury',\n",
       " 'Venus',\n",
       " 'Earth',\n",
       " 'Mars',\n",
       " 'Jupiter',\n",
       " 'Saturn',\n",
       " 'Uranus',\n",
       " 'Neptune',\n",
       " 'Pluto']"
      ]
     },
     "execution_count": 16,
     "metadata": {},
     "output_type": "execute_result"
    }
   ],
   "source": [
    "planets"
   ]
  },
  {
   "cell_type": "code",
   "execution_count": 17,
   "id": "oriental-samba",
   "metadata": {},
   "outputs": [
    {
     "data": {
      "text/plain": [
       "'Pluto'"
      ]
     },
     "execution_count": 17,
     "metadata": {},
     "output_type": "execute_result"
    }
   ],
   "source": [
    "planets.pop()\n",
    "#removes and returns the last element of a list"
   ]
  },
  {
   "cell_type": "code",
   "execution_count": 18,
   "id": "clinical-repair",
   "metadata": {},
   "outputs": [
    {
     "data": {
      "text/plain": [
       "['Mercury', 'Venus', 'Earth', 'Mars', 'Jupiter', 'Saturn', 'Uranus', 'Neptune']"
      ]
     },
     "execution_count": 18,
     "metadata": {},
     "output_type": "execute_result"
    }
   ],
   "source": [
    "planets"
   ]
  },
  {
   "cell_type": "markdown",
   "id": "thirty-order",
   "metadata": {},
   "source": [
    "### Searching Lists"
   ]
  },
  {
   "cell_type": "code",
   "execution_count": 19,
   "id": "partial-education",
   "metadata": {},
   "outputs": [
    {
     "data": {
      "text/plain": [
       "2"
      ]
     },
     "execution_count": 19,
     "metadata": {},
     "output_type": "execute_result"
    }
   ],
   "source": [
    "planets.index('Earth')"
   ]
  },
  {
   "cell_type": "code",
   "execution_count": 20,
   "id": "sonic-terry",
   "metadata": {},
   "outputs": [
    {
     "data": {
      "text/plain": [
       "True"
      ]
     },
     "execution_count": 20,
     "metadata": {},
     "output_type": "execute_result"
    }
   ],
   "source": [
    "# Is Earth a planet?\n",
    "\"Earth\" in planets"
   ]
  },
  {
   "cell_type": "markdown",
   "id": "regional-concert",
   "metadata": {},
   "source": [
    "### List Comprehesions"
   ]
  },
  {
   "cell_type": "code",
   "execution_count": 21,
   "id": "absolute-glass",
   "metadata": {},
   "outputs": [
    {
     "data": {
      "text/plain": [
       "[0, 1, 4, 9, 16, 25, 36, 49, 64, 81]"
      ]
     },
     "execution_count": 21,
     "metadata": {},
     "output_type": "execute_result"
    }
   ],
   "source": [
    "squares = [n**2 for n in range(10)]\n",
    "squares"
   ]
  },
  {
   "cell_type": "code",
   "execution_count": 22,
   "id": "featured-scott",
   "metadata": {},
   "outputs": [
    {
     "data": {
      "text/plain": [
       "[0, 1, 4, 9, 16, 25, 36, 49, 64, 81]"
      ]
     },
     "execution_count": 22,
     "metadata": {},
     "output_type": "execute_result"
    }
   ],
   "source": [
    "squares = []\n",
    "for n in range(10):\n",
    "    squares.append(n**2)\n",
    "squares"
   ]
  },
  {
   "cell_type": "code",
   "execution_count": 23,
   "id": "gorgeous-arrow",
   "metadata": {},
   "outputs": [
    {
     "data": {
      "text/plain": [
       "['Venus', 'Earth', 'Mars']"
      ]
     },
     "execution_count": 23,
     "metadata": {},
     "output_type": "execute_result"
    }
   ],
   "source": [
    "short_planets = [planet for planet in planets if len(planet) < 6]\n",
    "short_planets"
   ]
  },
  {
   "cell_type": "code",
   "execution_count": 24,
   "id": "earned-salon",
   "metadata": {},
   "outputs": [
    {
     "data": {
      "text/plain": [
       "['VENUS!', 'EARTH!', 'MARS!']"
      ]
     },
     "execution_count": 24,
     "metadata": {},
     "output_type": "execute_result"
    }
   ],
   "source": [
    "loud_short_planets = [planet.upper() + '!' for planet in planets if len(planet) < 6]\n",
    "loud_short_planets"
   ]
  },
  {
   "cell_type": "code",
   "execution_count": 26,
   "id": "referenced-serbia",
   "metadata": {},
   "outputs": [
    {
     "data": {
      "text/plain": [
       "['VENUS!', 'EARTH!', 'MARS!']"
      ]
     },
     "execution_count": 26,
     "metadata": {},
     "output_type": "execute_result"
    }
   ],
   "source": [
    "#clearer structure:\n",
    "[\n",
    "    planet.upper() + '!' \n",
    "    for planet in planets \n",
    "    if len(planet) < 6\n",
    "]\n",
    "\n",
    "#similar to SQL structure \"SELECT, FROM, WHERE\""
   ]
  },
  {
   "cell_type": "code",
   "execution_count": 27,
   "id": "regulation-scheduling",
   "metadata": {},
   "outputs": [],
   "source": [
    "def count_negatives(nums):\n",
    "    \"\"\"Return the number of negative numbers in the given list.\n",
    "    \n",
    "    >>> count_negatives([5, -1, -2, 0, 3])\n",
    "    2\n",
    "    \"\"\"\n",
    "    n_negative = 0\n",
    "    for num in nums:\n",
    "        if num < 0:\n",
    "            n_negative = n_negative + 1\n",
    "    return n_negative"
   ]
  },
  {
   "cell_type": "code",
   "execution_count": 28,
   "id": "pressing-memorial",
   "metadata": {},
   "outputs": [],
   "source": [
    "def count_negatives(nums):\n",
    "    return len([num for num in nums if num < 0])"
   ]
  },
  {
   "cell_type": "code",
   "execution_count": 29,
   "id": "comic-trouble",
   "metadata": {},
   "outputs": [],
   "source": [
    "def count_negatives(nums):\n",
    "    # Reminder: in the \"booleans and conditionals\" exercises, we learned about a quirk of \n",
    "    # Python where it calculates something like True + True + False + True to be equal to 3.\n",
    "    return sum([num < 0 for num in nums])"
   ]
  },
  {
   "cell_type": "code",
   "execution_count": 1,
   "id": "equivalent-roberts",
   "metadata": {},
   "outputs": [],
   "source": [
    "def select_second(L):\n",
    "    \"\"\"Return the second element of the given list. If the list has no second\n",
    "    element, return None.\n",
    "    \"\"\"\n",
    "    if len(L) < 2:\n",
    "        return None\n",
    "    return L[1]\n"
   ]
  },
  {
   "cell_type": "code",
   "execution_count": null,
   "id": "diagnostic-florist",
   "metadata": {},
   "outputs": [],
   "source": [
    "def losing_team_captain(teams):\n",
    "    \"\"\"Given a list of teams, where each team is a list of names, return the 2nd player (captain)\n",
    "    from the last listed team\n",
    "    \"\"\"\n",
    "    return teams[-1][1]"
   ]
  },
  {
   "cell_type": "code",
   "execution_count": null,
   "id": "little-morning",
   "metadata": {},
   "outputs": [],
   "source": [
    "def purple_shell(racers):\n",
    "    \"\"\"Given a list of racers, set the first place racer (at the front of the list) to last\n",
    "    place and vice versa.\n",
    "    \n",
    "    >>> r = [\"Mario\", \"Bowser\", \"Luigi\"]\n",
    "    >>> purple_shell(r)\n",
    "    >>> r\n",
    "    [\"Luigi\", \"Bowser\", \"Mario\"]\n",
    "    \"\"\"\n",
    "    # One slick way to do the swap is x[0], x[-1] = x[-1], x[0].\n",
    "    temp = racers[0]\n",
    "    racers[0] = racers[-1]\n",
    "    racers[-1] = temp"
   ]
  },
  {
   "cell_type": "code",
   "execution_count": null,
   "id": "other-smith",
   "metadata": {},
   "outputs": [],
   "source": [
    "a = [1, 2, 3] # 3 items\n",
    "b = [1, [2, 3]] # 2 items\n",
    "c = [] # 0 items\n",
    "d = [1, 2, 3][1:] # 2 items\n",
    "\n",
    "#Lengths should contain 4 numbers, the\n",
    "# first being the length of a, the second being the length of b and so on.\n",
    "lengths = [3, 2, 0, 2]"
   ]
  },
  {
   "cell_type": "code",
   "execution_count": null,
   "id": "listed-astrology",
   "metadata": {},
   "outputs": [],
   "source": [
    "def fashionably_late(arrivals, name):\n",
    "    \"\"\"Given an ordered list of arrivals to the party and a name, return whether the guest with that\n",
    "    name was fashionably late.\n",
    "    \"\"\"\n",
    "    order = arrivals.index(name)\n",
    "    return order >= len(arrivals) / 2 and order != len(arrivals) - 1"
   ]
  }
 ],
 "metadata": {
  "kernelspec": {
   "display_name": "Python 3 (ipykernel)",
   "language": "python",
   "name": "python3"
  },
  "language_info": {
   "codemirror_mode": {
    "name": "ipython",
    "version": 3
   },
   "file_extension": ".py",
   "mimetype": "text/x-python",
   "name": "python",
   "nbconvert_exporter": "python",
   "pygments_lexer": "ipython3",
   "version": "3.9.7"
  }
 },
 "nbformat": 4,
 "nbformat_minor": 5
}
