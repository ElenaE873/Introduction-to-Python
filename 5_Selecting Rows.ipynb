{
 "cells": [
  {
   "cell_type": "markdown",
   "id": "df89d92e",
   "metadata": {},
   "source": [
    "### Logical Statements"
   ]
  },
  {
   "cell_type": "markdown",
   "id": "05430820",
   "metadata": {},
   "source": [
    "- checks for a relationship between two values (\"equals\" or \"greater than\", etc)\n",
    "-  \"==\" check for the exact value"
   ]
  },
  {
   "cell_type": "markdown",
   "id": "ecfaa0c5",
   "metadata": {},
   "source": [
    "not equal to - \"!=\""
   ]
  },
  {
   "cell_type": "code",
   "execution_count": null,
   "id": "3c3d677c",
   "metadata": {},
   "outputs": [],
   "source": [
    "#compare an entire column to a value\n",
    "df.column = '20'"
   ]
  },
  {
   "cell_type": "code",
   "execution_count": null,
   "id": "06527ba1",
   "metadata": {},
   "outputs": [],
   "source": [
    "#using logic with DF\n",
    "df[df.column > 20]"
   ]
  }
 ],
 "metadata": {
  "kernelspec": {
   "display_name": "Python 3 (ipykernel)",
   "language": "python",
   "name": "python3"
  },
  "language_info": {
   "codemirror_mode": {
    "name": "ipython",
    "version": 3
   },
   "file_extension": ".py",
   "mimetype": "text/x-python",
   "name": "python",
   "nbconvert_exporter": "python",
   "pygments_lexer": "ipython3",
   "version": "3.9.7"
  }
 },
 "nbformat": 4,
 "nbformat_minor": 5
}
