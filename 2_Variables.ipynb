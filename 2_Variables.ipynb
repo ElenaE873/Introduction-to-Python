{
 "cells": [
  {
   "cell_type": "markdown",
   "id": "0344299d",
   "metadata": {},
   "source": [
    "### Variables"
   ]
  },
  {
   "cell_type": "markdown",
   "id": "5bc5cce7",
   "metadata": {},
   "source": [
    "- provides a \"short-cut\" to an object\n",
    "- case sensitive"
   ]
  },
  {
   "cell_type": "markdown",
   "id": "8c18624e",
   "metadata": {},
   "source": [
    "### Variable Rules"
   ]
  },
  {
   "cell_type": "markdown",
   "id": "388227d1",
   "metadata": {},
   "source": [
    "- Start with a letter\n",
    "- after first letter can be alpahnumeric\n",
    "- no special characters (like \"-\")\n",
    "- no spaces\n",
    "- case sensitive\n",
    "- whatever is being stored as a \"string\" in the variable, must be in \"quotes\"\n",
    "- numbers do not need"
   ]
  },
  {
   "cell_type": "markdown",
   "id": "f36e6962",
   "metadata": {},
   "source": [
    "### Two forms:"
   ]
  },
  {
   "cell_type": "markdown",
   "id": "bb853e28",
   "metadata": {},
   "source": [
    "- FLOATs: integers or decimal number\n",
    "- STRINGs: text (letters, numbers, spaces, special characters, etc)"
   ]
  }
 ],
 "metadata": {
  "kernelspec": {
   "display_name": "Python 3 (ipykernel)",
   "language": "python",
   "name": "python3"
  },
  "language_info": {
   "codemirror_mode": {
    "name": "ipython",
    "version": 3
   },
   "file_extension": ".py",
   "mimetype": "text/x-python",
   "name": "python",
   "nbconvert_exporter": "python",
   "pygments_lexer": "ipython3",
   "version": "3.9.7"
  }
 },
 "nbformat": 4,
 "nbformat_minor": 5
}
