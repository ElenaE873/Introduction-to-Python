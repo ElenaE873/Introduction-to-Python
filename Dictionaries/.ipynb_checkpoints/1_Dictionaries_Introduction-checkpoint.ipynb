{
 "cells": [
  {
   "cell_type": "markdown",
   "id": "6d4da1d1",
   "metadata": {},
   "source": [
    "##### Dictionaries"
   ]
  },
  {
   "cell_type": "markdown",
   "id": "9a2306c6",
   "metadata": {},
   "source": [
    "- need curly brakets\n",
    "- need keys (in quotes) and values (or strings in quotes)\n",
    "- keys and values are separated by colon\n",
    "\n",
    "- the keys in the dictionary should be unique\n",
    "- these have to be \"immutable objects\""
   ]
  },
  {
   "cell_type": "markdown",
   "id": "1bf384b5",
   "metadata": {},
   "source": [
    "#### immutable objects (cannot be changed after created)\n",
    "- strings\n",
    "- booleans\n",
    "- intergers\n",
    "- floats"
   ]
  },
  {
   "cell_type": "markdown",
   "id": "d9e861d2",
   "metadata": {},
   "source": [
    "##### Lists vs. Dictionaries"
   ]
  },
  {
   "cell_type": "markdown",
   "id": "fae59874",
   "metadata": {},
   "source": [
    "Lists:\n",
    "- series of values\n",
    "- indexed by range of numbers\n",
    "- when to use: collection of values, order matters, select entire subsets\n",
    "\n",
    "Dictionaries:\n",
    "- indexed by unique keys\n",
    "- keys can be any immutable type\n",
    "- when to use: when you need a lookup table "
   ]
  },
  {
   "cell_type": "code",
   "execution_count": null,
   "id": "c92e98b0",
   "metadata": {},
   "outputs": [],
   "source": [
    "#separate note about using index for lists example\n",
    "\n",
    "# Definition of countries and capitals\n",
    "countries = ['spain', 'france', 'germany', 'norway']\n",
    "capitals = ['madrid', 'paris', 'berlin', 'oslo']\n",
    "\n",
    "# Get index of 'germany' and storing it under ind_ger\n",
    "ind_ger = countries.index('germany')\n",
    "\n",
    "# Use ind_ger to print out capital of Germany\n",
    "print(capitals[ind_ger])\n",
    "\n",
    "#so weird, right!"
   ]
  },
  {
   "cell_type": "code",
   "execution_count": null,
   "id": "8086cec4",
   "metadata": {},
   "outputs": [],
   "source": [
    "dictionary = {\"key1\":value1, \n",
    "             \"key2\":value2,\n",
    "             \"key3\":value3}\n",
    "\n",
    "#to get the corresponding value of a key\n",
    "dictionary[\"key1\"]"
   ]
  },
  {
   "cell_type": "code",
   "execution_count": 1,
   "id": "4b11f0c1",
   "metadata": {},
   "outputs": [],
   "source": [
    "#printing out keys of a dictionary\n",
    "print(dictionary_name.keys())\n",
    "\n",
    "#printing out values of a dictionary\n",
    "print(dictionary_name.values())"
   ]
  },
  {
   "cell_type": "code",
   "execution_count": null,
   "id": "4ab4a246",
   "metadata": {},
   "outputs": [],
   "source": [
    "#deleting a key in the dictionary\n",
    "del(dictionary[\"key\"])"
   ]
  },
  {
   "cell_type": "code",
   "execution_count": null,
   "id": "9df279f9",
   "metadata": {},
   "outputs": [],
   "source": [
    "#dding a key to a dictionary\n",
    "dictionary_name['key'] = 'value'"
   ]
  },
  {
   "cell_type": "code",
   "execution_count": null,
   "id": "aa983ccb",
   "metadata": {},
   "outputs": [],
   "source": [
    "#updating a value to a key\n",
    "dictionary_name['existingkey'] = 'newvalue'"
   ]
  },
  {
   "cell_type": "markdown",
   "id": "229656b0",
   "metadata": {},
   "source": [
    "##### Dictionary of Dictionaries"
   ]
  },
  {
   "cell_type": "code",
   "execution_count": null,
   "id": "981b0a3c",
   "metadata": {},
   "outputs": [],
   "source": [
    "#example:\n",
    "europe = { 'spain': { 'capital':'madrid', 'population':46.77 },\n",
    "           'france': { 'capital':'paris', 'population':66.03 },\n",
    "           'germany': { 'capital':'berlin', 'population':80.62 },\n",
    "           'norway': { 'capital':'oslo', 'population':5.084 } }"
   ]
  },
  {
   "cell_type": "code",
   "execution_count": null,
   "id": "912fce0a",
   "metadata": {},
   "outputs": [],
   "source": [
    "# Print out the capital of France\n",
    "print(europe['france']['capital'])\n",
    "\n",
    "# Create sub-dictionary data\n",
    "data = { 'capital':'rome', 'population':59.83 }\n",
    "\n",
    "# Add data to europe under key 'italy'\n",
    "europe['italy'] = data\n",
    "\n",
    "# Print europe\n",
    "print(europe)"
   ]
  }
 ],
 "metadata": {
  "kernelspec": {
   "display_name": "Python 3 (ipykernel)",
   "language": "python",
   "name": "python3"
  },
  "language_info": {
   "codemirror_mode": {
    "name": "ipython",
    "version": 3
   },
   "file_extension": ".py",
   "mimetype": "text/x-python",
   "name": "python",
   "nbconvert_exporter": "python",
   "pygments_lexer": "ipython3",
   "version": "3.9.7"
  }
 },
 "nbformat": 4,
 "nbformat_minor": 5
}
