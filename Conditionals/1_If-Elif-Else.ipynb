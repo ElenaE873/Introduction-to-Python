{
 "cells": [
  {
   "cell_type": "markdown",
   "id": "11560548",
   "metadata": {},
   "source": [
    "#### if"
   ]
  },
  {
   "cell_type": "code",
   "execution_count": null,
   "id": "25ce5786",
   "metadata": {},
   "outputs": [],
   "source": [
    "if condition:\n",
    "    expression\n",
    "    \n",
    "#if condition is met, the expression is executed\n",
    "#if the condition is not met, the expression is not executed"
   ]
  },
  {
   "cell_type": "code",
   "execution_count": null,
   "id": "a64e6bb3",
   "metadata": {},
   "outputs": [],
   "source": [
    "#in cases where the condition is not met, an \"else\" expression can be executed\n",
    "if condition:\n",
    "    expression\n",
    "else:\n",
    "    expression"
   ]
  },
  {
   "cell_type": "code",
   "execution_count": null,
   "id": "433009e5",
   "metadata": {},
   "outputs": [],
   "source": [
    "#\n",
    "if condition:\n",
    "    expression\n",
    "elif condition:\n",
    "    expression\n",
    "else:\n",
    "    expression\n",
    "    \n",
    "#in this scenario a condition can be checked for"
   ]
  },
  {
   "cell_type": "code",
   "execution_count": null,
   "id": "e1b4018e",
   "metadata": {},
   "outputs": [],
   "source": [
    "#example\n",
    "\n",
    "z = 6\n",
    "\n",
    "if z % 2 == 0:\n",
    "    print(\"z is divisible by 2\")  #This turns out to be true\n",
    "elif z % 3 == 0:\n",
    "    print(\"z is divisible by 3\")  #Never reached because the first condition is met\n",
    "else:\n",
    "    print(\"z is never divisible by 2 nor by 3\")"
   ]
  }
 ],
 "metadata": {
  "kernelspec": {
   "display_name": "Python 3 (ipykernel)",
   "language": "python",
   "name": "python3"
  },
  "language_info": {
   "codemirror_mode": {
    "name": "ipython",
    "version": 3
   },
   "file_extension": ".py",
   "mimetype": "text/x-python",
   "name": "python",
   "nbconvert_exporter": "python",
   "pygments_lexer": "ipython3",
   "version": "3.9.7"
  }
 },
 "nbformat": 4,
 "nbformat_minor": 5
}
