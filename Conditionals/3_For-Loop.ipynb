{
 "cells": [
  {
   "cell_type": "code",
   "execution_count": null,
   "id": "ca0fce40",
   "metadata": {},
   "outputs": [],
   "source": [
    "for var in seq:\n",
    "    expression\n",
    "    \n",
    "#for each variable in a sequence execute the expression\n",
    "#the var is arbitrary and can be designated as anything that makes sense"
   ]
  },
  {
   "cell_type": "code",
   "execution_count": 1,
   "id": "4b6423c3",
   "metadata": {},
   "outputs": [
    {
     "name": "stdout",
     "output_type": "stream",
     "text": [
      "1.73\n",
      "1.68\n",
      "1.7\n",
      "1.89\n"
     ]
    }
   ],
   "source": [
    "#example\n",
    "list = [1.73, 1.68, 1.70, 1.89]\n",
    "for item in list:\n",
    "    print(item)"
   ]
  },
  {
   "cell_type": "code",
   "execution_count": 3,
   "id": "ce84a6f1",
   "metadata": {},
   "outputs": [
    {
     "name": "stdout",
     "output_type": "stream",
     "text": [
      "index 0: 1.73\n",
      "index 1: 1.68\n",
      "index 2: 1.7\n",
      "index 3: 1.89\n"
     ]
    }
   ],
   "source": [
    "#should we want to also list the index, we use enumerate()\n",
    "\n",
    "list = [1.73, 1.68, 1.70, 1.89]\n",
    "for index, item in enumerate(list):\n",
    "    print(\"index \" + str(index) + \": \" + str(item))"
   ]
  },
  {
   "cell_type": "markdown",
   "id": "42d26953",
   "metadata": {},
   "source": [
    "#### iterating over dictionaries"
   ]
  },
  {
   "cell_type": "code",
   "execution_count": null,
   "id": "1a1fd7a3",
   "metadata": {},
   "outputs": [],
   "source": [
    "for key, value in dicionary_name.items():  #requires a method\n",
    "    print(key + \" -- \" + str(value))\n",
    "    \n",
    "#dictionaries are inherently unordered\n",
    "#and the order in which they are iterated over is not fixed"
   ]
  },
  {
   "cell_type": "markdown",
   "id": "d3f48c7c",
   "metadata": {},
   "source": [
    "#### iterating over a NumPy array"
   ]
  },
  {
   "cell_type": "code",
   "execution_count": null,
   "id": "ba2db4d6",
   "metadata": {},
   "outputs": [],
   "source": [
    "for val in np.nditer(my_array):  #uses a function"
   ]
  },
  {
   "cell_type": "markdown",
   "id": "f01d5f15",
   "metadata": {},
   "source": [
    "#### iterating over the rows of a  pandas dataframe"
   ]
  },
  {
   "cell_type": "code",
   "execution_count": null,
   "id": "2242a66f",
   "metadata": {},
   "outputs": [],
   "source": [
    "import pandas as pd\n",
    "df = pd.read_csv(\"filename.csv\", index_col=0)\n",
    "\n",
    "for lab, row in df.iterrows():\n",
    "    print(lab)  #index_label\n",
    "    print(row)\n",
    "    print(lab + \": \" + row[\"column\"])"
   ]
  }
 ],
 "metadata": {
  "kernelspec": {
   "display_name": "Python 3 (ipykernel)",
   "language": "python",
   "name": "python3"
  },
  "language_info": {
   "codemirror_mode": {
    "name": "ipython",
    "version": 3
   },
   "file_extension": ".py",
   "mimetype": "text/x-python",
   "name": "python",
   "nbconvert_exporter": "python",
   "pygments_lexer": "ipython3",
   "version": "3.9.7"
  }
 },
 "nbformat": 4,
 "nbformat_minor": 5
}
