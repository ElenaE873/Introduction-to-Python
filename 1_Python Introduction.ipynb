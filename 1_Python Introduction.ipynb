{
 "cells": [
  {
   "cell_type": "markdown",
   "id": "3208fe50",
   "metadata": {},
   "source": [
    "ipythonshell is also known as the console"
   ]
  },
  {
   "cell_type": "markdown",
   "id": "2e7a233b",
   "metadata": {},
   "source": [
    "### Modules"
   ]
  },
  {
   "cell_type": "markdown",
   "id": "96fcce5d",
   "metadata": {},
   "source": [
    "- also known as \"packages\" or \"libraries\"\n",
    "- common examples: matplotlib, pandas, scimpikit-learn, scipy, nltk\n",
    "- Goups together related tools\n",
    "- & Makes it easy to know where to look for a tool"
   ]
  },
  {
   "cell_type": "markdown",
   "id": "c9302167",
   "metadata": {},
   "source": [
    "### Importing Modules"
   ]
  },
  {
   "cell_type": "markdown",
   "id": "889735d4",
   "metadata": {},
   "source": [
    "Required in order to unfold the tools in the modules."
   ]
  },
  {
   "cell_type": "markdown",
   "id": "d28c2812",
   "metadata": {},
   "source": [
    "### Python is Case - Sensitive"
   ]
  },
  {
   "cell_type": "code",
   "execution_count": 1,
   "id": "054232ae",
   "metadata": {},
   "outputs": [
    {
     "ename": "ModuleNotFoundError",
     "evalue": "No module named 'Numpy'",
     "output_type": "error",
     "traceback": [
      "\u001b[1;31m---------------------------------------------------------------------------\u001b[0m",
      "\u001b[1;31mModuleNotFoundError\u001b[0m                       Traceback (most recent call last)",
      "\u001b[1;32m~\\AppData\\Local\\Temp/ipykernel_23880/3692995336.py\u001b[0m in \u001b[0;36m<module>\u001b[1;34m\u001b[0m\n\u001b[1;32m----> 1\u001b[1;33m \u001b[1;32mimport\u001b[0m \u001b[0mNumpy\u001b[0m \u001b[1;32mas\u001b[0m \u001b[0mnp\u001b[0m\u001b[1;33m\u001b[0m\u001b[1;33m\u001b[0m\u001b[0m\n\u001b[0m",
      "\u001b[1;31mModuleNotFoundError\u001b[0m: No module named 'Numpy'"
     ]
    }
   ],
   "source": [
    "import Numpy as np"
   ]
  },
  {
   "cell_type": "markdown",
   "id": "3ee4211f",
   "metadata": {},
   "source": [
    "the above shows that you must use lowercase"
   ]
  },
  {
   "cell_type": "code",
   "execution_count": 2,
   "id": "954ced78",
   "metadata": {},
   "outputs": [],
   "source": [
    "import numpy as np"
   ]
  },
  {
   "cell_type": "markdown",
   "id": "abd73f4b",
   "metadata": {},
   "source": [
    "see!"
   ]
  }
 ],
 "metadata": {
  "kernelspec": {
   "display_name": "Python 3 (ipykernel)",
   "language": "python",
   "name": "python3"
  },
  "language_info": {
   "codemirror_mode": {
    "name": "ipython",
    "version": 3
   },
   "file_extension": ".py",
   "mimetype": "text/x-python",
   "name": "python",
   "nbconvert_exporter": "python",
   "pygments_lexer": "ipython3",
   "version": "3.9.7"
  }
 },
 "nbformat": 4,
 "nbformat_minor": 5
}
